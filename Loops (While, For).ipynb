{
 "cells": [
  {
   "cell_type": "code",
   "execution_count": 2,
   "id": "7dd196f0-c0c2-44ea-a31d-badf601fde05",
   "metadata": {},
   "outputs": [
    {
     "name": "stdout",
     "output_type": "stream",
     "text": [
      "1\n",
      "2\n",
      "3\n",
      "4\n",
      "5\n"
     ]
    }
   ],
   "source": [
    "\n",
    "#Q1) Print number from 1 to 5 Using a while loop.\n",
    "number = 1\n",
    "\n",
    "while number <= 5:\n",
    "    print(number)\n",
    "    number += 1"
   ]
  },
  {
   "cell_type": "code",
   "execution_count": 3,
   "id": "2fa92e10-1d89-43b1-ad46-1e1b2018791f",
   "metadata": {},
   "outputs": [
    {
     "name": "stdout",
     "output_type": "stream",
     "text": [
      "The sum of numbers from 1 to 10 is: 55\n"
     ]
    }
   ],
   "source": [
    "\n",
    "#Q2)Calclate the sum of number from 1 to 10 using a while loop.\n",
    "\n",
    "# Initialize variables\n",
    "number = 1\n",
    "sum_result = 0\n",
    "\n",
    "# Calculate the sum using a while loop\n",
    "while number <= 10:\n",
    "    sum_result += number\n",
    "    number += 1\n",
    "\n",
    "# Print the result\n",
    "print(\"The sum of numbers from 1 to 10 is:\", sum_result)\n"
   ]
  },
  {
   "cell_type": "code",
   "execution_count": 7,
   "id": "bca5e758-59ab-4485-88d6-62e01dccf975",
   "metadata": {},
   "outputs": [
    {
     "name": "stdout",
     "output_type": "stream",
     "text": [
      "120\n"
     ]
    }
   ],
   "source": [
    "\n",
    "#Q3 Calclate the factorial of a number using a for loop.\n",
    "\n",
    "#num = 5  here we want to calculate result for 5\n",
    "fact = 1\n",
    "for i in range (1,6):\n",
    "    fact = fact*i\n",
    "\n",
    "print(fact)"
   ]
  },
  {
   "cell_type": "code",
   "execution_count": 22,
   "id": "ad16a504-c49f-46ec-ac28-53c2565cec9d",
   "metadata": {},
   "outputs": [
    {
     "name": "stdout",
     "output_type": "stream",
     "text": [
      "6\n"
     ]
    }
   ],
   "source": [
    "#Q4 Cont the number of vowels in a string using a for loop.\n",
    "\n",
    "sentance = \"my name is debashis\"\n",
    "sentance= sentance.lower()\n",
    "count = 0\n",
    "\n",
    "for i in sentance :\n",
    "    if (i==\"a\" or i==\"e\" or i==\"i\" or i==\"o\" or i==\"u\"):\n",
    "     count = count+1\n",
    "print(count)"
   ]
  },
  {
   "cell_type": "code",
   "execution_count": 23,
   "id": "7737f938-a20a-4a04-8579-9399ba8cc2cc",
   "metadata": {},
   "outputs": [
    {
     "name": "stdin",
     "output_type": "stream",
     "text": [
      "Enter the number of rows: 5\n"
     ]
    },
    {
     "name": "stdout",
     "output_type": "stream",
     "text": [
      "\n",
      "* \n",
      "* * \n",
      "* * * \n",
      "* * * * \n"
     ]
    }
   ],
   "source": [
    "#Q5 Print a pattern using a nested loop.\n",
    "row = int(input(\"Enter the number of rows:\"))\n",
    "for i in range(1,row+1):\n",
    "    for j in range(1, i):\n",
    "        print(\"*\", end = \" \")\n",
    "    print( )\n"
   ]
  },
  {
   "cell_type": "code",
   "execution_count": 24,
   "id": "c47077e1-310d-4f45-a1a7-11f67f5b5479",
   "metadata": {},
   "outputs": [
    {
     "name": "stdin",
     "output_type": "stream",
     "text": [
      "Enter the number of row: 2\n",
      "Enter the number of colum: 5\n"
     ]
    },
    {
     "name": "stdout",
     "output_type": "stream",
     "text": [
      "1 * 1 = 1\t 1 * 2 = 2\t 1 * 3 = 3\t 1 * 4 = 4\t 1 * 5 = 5\t \n",
      "2 * 1 = 2\t 2 * 2 = 4\t 2 * 3 = 6\t 2 * 4 = 8\t 2 * 5 = 10\t \n"
     ]
    }
   ],
   "source": [
    "#  Generate a multiplication table using nested loops.\n",
    "row  = int(input(\"Enter the number of row:\"))\n",
    "colum = int(input(\"Enter the number of colum:\"))\n",
    "for i in range(1, row+1):\n",
    "    for j in range(1, colum+1):\n",
    "        \n",
    "        result = i * j\n",
    "        \n",
    "        print(f\"{i} * {j} = {result}\\t\",end=\" \")\n",
    "        \n",
    "        \n",
    "        \n",
    "         \n",
    "        \n",
    "    print( )"
   ]
  },
  {
   "cell_type": "code",
   "execution_count": null,
   "id": "ade4e8f0-fa2c-4a8c-9b22-4474fd815017",
   "metadata": {},
   "outputs": [],
   "source": []
  }
 ],
 "metadata": {
  "kernelspec": {
   "display_name": "Python 3 (ipykernel)",
   "language": "python",
   "name": "python3"
  },
  "language_info": {
   "codemirror_mode": {
    "name": "ipython",
    "version": 3
   },
   "file_extension": ".py",
   "mimetype": "text/x-python",
   "name": "python",
   "nbconvert_exporter": "python",
   "pygments_lexer": "ipython3",
   "version": "3.10.8"
  }
 },
 "nbformat": 4,
 "nbformat_minor": 5
}
