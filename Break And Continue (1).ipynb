{
 "cells": [
  {
   "cell_type": "code",
   "execution_count": 1,
   "id": "0a4d64c4-3a52-41c5-9b0c-a34956100c9e",
   "metadata": {},
   "outputs": [
    {
     "name": "stdout",
     "output_type": "stream",
     "text": [
      "0\n",
      "1\n",
      "2\n",
      "3\n",
      "4\n"
     ]
    }
   ],
   "source": [
    "#Q1-Write a program to print numbers from 0 to 10, but stop if the number is 5.\n",
    "for num in range(11):\n",
    "    if num == 5:\n",
    "        break\n",
    "    print(num)\n"
   ]
  },
  {
   "cell_type": "code",
   "execution_count": 2,
   "id": "e6de20a0-37f5-40bd-9103-4ad35160f09c",
   "metadata": {},
   "outputs": [
    {
     "name": "stdout",
     "output_type": "stream",
     "text": [
      "1\n",
      "2\n",
      "3\n",
      "4\n"
     ]
    }
   ],
   "source": [
    "#Q2-Write a program to iterate through a list and stop when encountering a specific element.\n",
    "my_list = [1,2,3,4,5,6,7,8,9,10]\n",
    "stop_element = 5\n",
    "\n",
    "for element in my_list:\n",
    "    if element== stop_element:\n",
    "     break\n",
    "    \n",
    "    print(element)"
   ]
  },
  {
   "cell_type": "code",
   "execution_count": 3,
   "id": "acc9d82a-edc8-40d4-92f0-4142ef935f88",
   "metadata": {},
   "outputs": [
    {
     "name": "stdout",
     "output_type": "stream",
     "text": [
      "1\n",
      "3\n",
      "5\n",
      "7\n",
      "9\n"
     ]
    }
   ],
   "source": [
    "#Q3-Write a program to skip printing even numbers from 0 to 10.\n",
    "\n",
    "for num in range(11):\n",
    "    if num % 2 == 0:  # Check if the number is even\n",
    "        continue       # Skip even numbers and continue to the next iteration\n",
    "    print(num)"
   ]
  },
  {
   "cell_type": "code",
   "execution_count": 4,
   "id": "c3de8886-e249-443c-9896-a58ebc1072c2",
   "metadata": {},
   "outputs": [
    {
     "name": "stdout",
     "output_type": "stream",
     "text": [
      "0\n",
      "1\n",
      "2\n",
      "3\n",
      "4\n",
      "5\n",
      "6\n",
      "7\n",
      "8\n",
      "9\n"
     ]
    }
   ],
   "source": [
    "#Q4-Write a program to print numbers from 0 to 9 using range().\n",
    "\n",
    "for i in range(10):\n",
    "    print(i)\n"
   ]
  },
  {
   "cell_type": "code",
   "execution_count": 5,
   "id": "9f8c68ac-4ade-4b66-8163-0fbef02fb688",
   "metadata": {},
   "outputs": [
    {
     "name": "stdout",
     "output_type": "stream",
     "text": [
      "1 * 1 = 1  \n",
      "2 * 1 = 2  \n",
      "3 * 1 = 3  \n",
      "4 * 1 = 4  \n",
      "5 * 1 = 5  \n"
     ]
    }
   ],
   "source": [
    "# Q5- Write a program to print multiplication tables from 1 to 5, but stop after the first table is printed for each number.\n",
    "\n",
    "for row in range(1,5+1):\n",
    "    for colum in range(1, 3):\n",
    "        result = row * colum\n",
    "        print(f\"{row} * {colum} = {result} \", end = \" \")\n",
    "        break\n",
    "    print()"
   ]
  },
  {
   "cell_type": "code",
   "execution_count": 6,
   "id": "de03385d-7d42-4f11-86a7-e2060a4e2943",
   "metadata": {},
   "outputs": [
    {
     "name": "stdin",
     "output_type": "stream",
     "text": [
      "Enter the number: 10\n"
     ]
    },
    {
     "name": "stdout",
     "output_type": "stream",
     "text": [
      "1 3 5 7 9 "
     ]
    }
   ],
   "source": [
    "# Write a program to skip printing even numbers using a while loop\n",
    "\n",
    "num = int(input(\"Enter the number:\"))\n",
    "i =0\n",
    "\n",
    "while i<num:\n",
    "    i+=1\n",
    "    if i%2==0:\n",
    "        continue\n",
    "    print(i, end=\" \")"
   ]
  },
  {
   "cell_type": "code",
   "execution_count": null,
   "id": "14737b70-e8e5-425c-9def-069bbf117779",
   "metadata": {},
   "outputs": [],
   "source": []
  }
 ],
 "metadata": {
  "kernelspec": {
   "display_name": "Python 3 (ipykernel)",
   "language": "python",
   "name": "python3"
  },
  "language_info": {
   "codemirror_mode": {
    "name": "ipython",
    "version": 3
   },
   "file_extension": ".py",
   "mimetype": "text/x-python",
   "name": "python",
   "nbconvert_exporter": "python",
   "pygments_lexer": "ipython3",
   "version": "3.10.8"
  }
 },
 "nbformat": 4,
 "nbformat_minor": 5
}
