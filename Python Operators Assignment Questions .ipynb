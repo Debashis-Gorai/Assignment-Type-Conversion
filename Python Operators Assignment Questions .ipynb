{
 "cells": [
  {
   "cell_type": "code",
   "execution_count": 12,
   "id": "9f2102c4-cda7-4d4e-831d-b314323d8c62",
   "metadata": {},
   "outputs": [
    {
     "name": "stdout",
     "output_type": "stream",
     "text": [
      "sum: 16\n",
      "difference: 8\n",
      "product: 48\n",
      "quotient(natural number): 3\n",
      "quotient(decimal): 3.0\n"
     ]
    }
   ],
   "source": [
    "#Calc$late the sum, difference, product, and quotient of two numbers.\n",
    "\n",
    "a = 12\n",
    "b = 4\n",
    "print(\"sum:\",a+b)\n",
    "print(\"difference:\",a-b)\n",
    "print(\"product:\",a*b)\n",
    "print(\"quotient(natural number):\",a//b)\n",
    "print(\"quotient(decimal):\",a/b)\n"
   ]
  },
  {
   "cell_type": "code",
   "execution_count": 34,
   "id": "b6a3ba9e-9ae0-4843-9715-e466d5d216c5",
   "metadata": {},
   "outputs": [
    {
     "name": "stdout",
     "output_type": "stream",
     "text": [
      "After addition assignment: 7\n",
      "After subtraction assignment: 8\n",
      "After multiplication assignment: 32\n",
      "After division assignment: 16.0\n",
      "After modulus assignment: 1.0\n",
      "After exponentiation assignment: 1.0\n",
      "After floor division assignment: 0.0\n"
     ]
    }
   ],
   "source": [
    "#Perform various assignment operations on a variable.\n",
    "\n",
    "# Initialize a variable\n",
    "x = 5\n",
    "\n",
    "x += 5  \n",
    "print(\"After addition assignment:\", x)\n",
    "\n",
    "x -= 2  \n",
    "print(\"After subtraction assignment:\", x)\n",
    "\n",
    "x *= 4  \n",
    "print(\"After multiplication assignment:\", x)\n",
    "\n",
    "x /= 2  \n",
    "print(\"After division assignment:\", x)\n",
    "\n",
    "x %= 3  \n",
    "print(\"After modulus assignment:\", x)\n",
    "\n",
    "x **= 2  \n",
    "print(\"After exponentiation assignment:\", x)\n",
    "\n",
    "x //= 3  \n",
    "print(\"After floor division assignment:\", x)\n"
   ]
  },
  {
   "cell_type": "code",
   "execution_count": 46,
   "id": "f8bc9eec-7fd8-4dfd-a213-624e16191dad",
   "metadata": {},
   "outputs": [
    {
     "name": "stdout",
     "output_type": "stream",
     "text": [
      "False\n",
      "True\n",
      "False\n",
      "True\n",
      "False\n",
      "True\n"
     ]
    }
   ],
   "source": [
    "#Compare two numbers and print the results.\n",
    "\n",
    "# Define two numbers\n",
    "number1 = 2\n",
    "number2 = 5\n",
    "\n",
    "# Compare and print the results\n",
    "x1=number1==number2\n",
    "print(x1)\n",
    "x2=number1!=number2\n",
    "print(x2)\n",
    "x3=number1>number2\n",
    "print(x3)\n",
    "x4=number1<number2\n",
    "print(x4)\n",
    "x5=number1>=number2\n",
    "print(x5)\n",
    "x6=number1<=number2\n",
    "print(x6)\n"
   ]
  },
  {
   "cell_type": "code",
   "execution_count": 58,
   "id": "8f711cdd-2f6a-48e0-8615-c14cbd798c3d",
   "metadata": {},
   "outputs": [
    {
     "name": "stdout",
     "output_type": "stream",
     "text": [
      "both are positive\n",
      "At least one of the numbers is positive\n",
      "Number1 is not negative\n"
     ]
    }
   ],
   "source": [
    "#Check conditions using logical operators.\n",
    "\n",
    "number1= 10\n",
    "number2 = 4\n",
    "if number1 > 0 and number2 > 0:\n",
    "    print(\"both are positive\")\n",
    "if number1 > 0 or number2 > 0:\n",
    "    print(\"At least one of the numbers is positive\")\n",
    "\n",
    "if not (number1 < 0):\n",
    "    print(\"Number1 is not negative\")"
   ]
  },
  {
   "cell_type": "code",
   "execution_count": 60,
   "id": "cc60956f-8c42-4930-a79e-f6e8e5a71b9c",
   "metadata": {},
   "outputs": [
    {
     "name": "stdout",
     "output_type": "stream",
     "text": [
      "<class 'int'>\n",
      "<class 'float'>\n",
      "<class 'str'>\n",
      "<class 'bool'>\n"
     ]
    }
   ],
   "source": [
    "# check the variable type in python\n",
    "\n",
    "variable1 = 10\n",
    "variable2 = 3.14\n",
    "variable3 = \"Hello, World!\"\n",
    "variable4 = True\n",
    "\n",
    "# Check the type of each variable\n",
    "print(type(variable1))\n",
    "print(type(variable2))\n",
    "print(type(variable3))\n",
    "print(type(variable4))\n"
   ]
  },
  {
   "cell_type": "code",
   "execution_count": 69,
   "id": "cfd39b97-ba61-4bf3-aebc-f0a938fdc682",
   "metadata": {},
   "outputs": [
    {
     "name": "stdout",
     "output_type": "stream",
     "text": [
      "0b0\n",
      "0b1110\n",
      "0b1110\n",
      "-0b1011\n",
      "0b10100\n",
      "0b101\n"
     ]
    }
   ],
   "source": [
    "# Perform bitwise operations on any two integers.\n",
    "\n",
    "a = 10 \n",
    "b = 4 \n",
    "\n",
    "# Bitwise AND\n",
    "result_and = a & b\n",
    "print(bin(result_and))\n",
    "\n",
    "# Bitwise OR\n",
    "result_or = a | b\n",
    "print(bin(result_or))\n",
    "\n",
    "# Bitwise XOR\n",
    "result_xor = a ^b\n",
    "print(bin(result_xor))\n",
    "\n",
    "# Bitwise NOT\n",
    "result_not_a = ~a\n",
    "print(bin(result_not_a))\n",
    "\n",
    "# Left shift\n",
    "result_left_shift = a << 1\n",
    "print(bin(result_left_shift))\n",
    "\n",
    "# Right shift\n",
    "result_right_shift =a >> 1\n",
    "print(bin(result_right_shift))\n"
   ]
  },
  {
   "cell_type": "code",
   "execution_count": 72,
   "id": "9253a209-3541-47c7-8d7b-7d95c87be925",
   "metadata": {},
   "outputs": [
    {
     "name": "stdout",
     "output_type": "stream",
     "text": [
      "-7\n"
     ]
    }
   ],
   "source": [
    "# Use unary operators to change the sign of a number.\n",
    "\n",
    "number = 7\n",
    "\n",
    "# Change the sign using the unary operator\n",
    "negated_number = -number\n",
    "\n",
    "# Print the results\n",
    "print(negated_number)\n"
   ]
  },
  {
   "cell_type": "code",
   "execution_count": 73,
   "id": "7c894d0a-c731-40c0-987a-b2a4000a4639",
   "metadata": {},
   "outputs": [
    {
     "name": "stdout",
     "output_type": "stream",
     "text": [
      "a is greater than b\n"
     ]
    }
   ],
   "source": [
    "# Define two numbers\n",
    "a = 10\n",
    "b = 5\n",
    "\n",
    "# Use the ternary operator to assign values based on conditions\n",
    "result = \"a is greater than b\" if a > b else \"a is less than or equal to b\"\n",
    "\n",
    "# Print the result\n",
    "print(result)\n"
   ]
  },
  {
   "cell_type": "code",
   "execution_count": null,
   "id": "6e905b2e-01c2-4b31-ad90-7ae055bdfb27",
   "metadata": {},
   "outputs": [],
   "source": []
  }
 ],
 "metadata": {
  "kernelspec": {
   "display_name": "Python 3 (ipykernel)",
   "language": "python",
   "name": "python3"
  },
  "language_info": {
   "codemirror_mode": {
    "name": "ipython",
    "version": 3
   },
   "file_extension": ".py",
   "mimetype": "text/x-python",
   "name": "python",
   "nbconvert_exporter": "python",
   "pygments_lexer": "ipython3",
   "version": "3.10.8"
  }
 },
 "nbformat": 4,
 "nbformat_minor": 5
}
