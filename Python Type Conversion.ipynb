{
 "cells": [
  {
   "cell_type": "code",
   "execution_count": 19,
   "id": "0844d116-a487-408f-9b71-5e1c32835c3d",
   "metadata": {},
   "outputs": [
    {
     "name": "stdout",
     "output_type": "stream",
     "text": [
      "<class 'int'>\n",
      "2.0\n",
      "<class 'float'>\n"
     ]
    }
   ],
   "source": [
    "#Covert a iteger to a floatig-poit umber.\n",
    "\n",
    "x = 2              # here the value of x is an integer number\n",
    "print(type(x))\n",
    "y = float(x)       # Here y is another valiable taken for conversaion\n",
    "print (y)          # Here I have printed the conversaion value\n",
    "print(type(y))     # here I checked the final result"
   ]
  },
  {
   "cell_type": "code",
   "execution_count": 18,
   "id": "b0624b9a-5aa0-4b54-88a9-c2d2d782cfe5",
   "metadata": {},
   "outputs": [
    {
     "name": "stdout",
     "output_type": "stream",
     "text": [
      "<class 'float'>\n",
      "2\n",
      "<class 'int'>\n"
     ]
    }
   ],
   "source": [
    "# Covert a float to a iteger.\n",
    "\n",
    "x = 2.2          # here the value of x is a float number\n",
    "print(type(x))\n",
    "y = int(x)       # Here y is another valiable taken for conversaion\n",
    "print (y)        # Here I have printed the conversaion value\n",
    "print(type(y))   # here I checked the final result"
   ]
  },
  {
   "cell_type": "code",
   "execution_count": 16,
   "id": "88a9362b-4d91-4912-909c-d5db3b668cff",
   "metadata": {},
   "outputs": [
    {
     "name": "stdout",
     "output_type": "stream",
     "text": [
      "<class 'int'>\n",
      "4\n",
      "<class 'str'>\n"
     ]
    }
   ],
   "source": [
    "# Covert a iteger to a %trig.\n",
    "\n",
    "x = 4           # here the value of x is an integer number\n",
    "print(type(x))\n",
    "y = str(x)      # Here y is another valiable taken for conversaion\n",
    "print (y)       # Here I have printed the conversaion value\n",
    "print(type(y))  # here I checked the final result"
   ]
  },
  {
   "cell_type": "code",
   "execution_count": 24,
   "id": "0d015544-6573-49c6-94e4-1e3a48f8aae7",
   "metadata": {},
   "outputs": [
    {
     "name": "stdout",
     "output_type": "stream",
     "text": [
      "<class 'list'>\n",
      "('rohit', 'ram', 'shyam')\n",
      "<class 'tuple'>\n"
     ]
    }
   ],
   "source": [
    "# Covert a list to a tuple.\n",
    "\n",
    "mylist = [\"rohit\", \"ram\", \"shyam\"]  # here the value of mylist is list\n",
    "print(type(mylist))\n",
    "new_list = tuple(mylist)            # Here new_list is another valiable taken for conversaion\n",
    "print(new_list)                     # Here I have printed the conversaion value\n",
    "print(type(new_list))               # here I checked the final result"
   ]
  },
  {
   "cell_type": "code",
   "execution_count": 27,
   "id": "6c8fcd5b-d515-4432-9c49-63e479d45693",
   "metadata": {},
   "outputs": [
    {
     "name": "stdout",
     "output_type": "stream",
     "text": [
      "<class 'tuple'>\n",
      "[1, 'ram', 'shyam']\n",
      "<class 'list'>\n"
     ]
    }
   ],
   "source": [
    "# Covert a tuple to a list\n",
    "\n",
    "mytuple = (1, \"ram\", \"shyam\")   # here the value of mytuple is tuple\n",
    "print(type(mytuple)) \n",
    "new_tuple = list(mytuple)        # Here new_list is another valiable taken for conversaion\n",
    "print(new_tuple)                # Here I have printed the conversaion value\n",
    "print(type(new_tuple))          # here I checked the final result"
   ]
  },
  {
   "cell_type": "code",
   "execution_count": 43,
   "id": "f2f1f6b2-03d9-4083-9315-624251530c8b",
   "metadata": {},
   "outputs": [
    {
     "name": "stdout",
     "output_type": "stream",
     "text": [
      "0b1100\n"
     ]
    }
   ],
   "source": [
    "#Covert a decimal umber to biary\n",
    "\n",
    "x = 12      # Here assumed x is any decimal number\n",
    "y=(bin(x))   # Here y is the conversion value of binary\n",
    "print(y)     # here I checked the final result"
   ]
  },
  {
   "cell_type": "code",
   "execution_count": 46,
   "id": "128ee824-bcc7-4be7-a6a7-6933f0cba4f7",
   "metadata": {},
   "outputs": [
    {
     "name": "stdout",
     "output_type": "stream",
     "text": [
      "True\n"
     ]
    }
   ],
   "source": [
    "#Covert non-zero number to boolean.\n",
    "\n",
    "x = 42      # Here x is a non zero number \n",
    "y= bool(x)  # Here y is the conversion value of bool\n",
    "print(y)    # here I checked the final result"
   ]
  },
  {
   "cell_type": "code",
   "execution_count": null,
   "id": "473a1156-4749-4945-8fc3-b3fbf0e3dfd4",
   "metadata": {},
   "outputs": [],
   "source": []
  }
 ],
 "metadata": {
  "kernelspec": {
   "display_name": "Python 3 (ipykernel)",
   "language": "python",
   "name": "python3"
  },
  "language_info": {
   "codemirror_mode": {
    "name": "ipython",
    "version": 3
   },
   "file_extension": ".py",
   "mimetype": "text/x-python",
   "name": "python",
   "nbconvert_exporter": "python",
   "pygments_lexer": "ipython3",
   "version": "3.10.8"
  }
 },
 "nbformat": 4,
 "nbformat_minor": 5
}
